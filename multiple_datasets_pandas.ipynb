{
 "cells": [
  {
   "cell_type": "code",
   "execution_count": null,
   "metadata": {},
   "outputs": [],
   "source": [
    "import pandas as pd\n",
    "import numpy as np\n",
    "\n",
    "unemploy = pd.read_csv(\"\")\n",
    "unemploy.head()"
   ]
  },
  {
   "cell_type": "code",
   "execution_count": null,
   "metadata": {},
   "outputs": [],
   "source": [
    "df= pd.read_csv(\"E:/programs/python programs/ml basics/youtube_playlist1/data_analysis/minWage.csv\")\n",
    "act_min_wage = pd.DataFrame()\n",
    "for name,group in df.groupby('State'):\n",
    "    if act_min_wage.empty:\n",
    "        act_min_wage = group.set_index('Year')[['Low.2018']].rename(columns= {\"Low.2018\" : name})\n",
    "        \n",
    "    else:\n",
    "        act_min_wage = act_min_wage.join(group.set_index('Year')[['Low.2018']].rename(columns= {\"Low.2018\" : name}))\n",
    "act_min_wage = act_min_wage.replace(0,np.NaN).dropna(axis=1)\n",
    "act_min_wage.head()"
   ]
  },
  {
   "cell_type": "code",
   "execution_count": null,
   "metadata": {},
   "outputs": [],
   "source": [
    "def get_min_wage(year, state):\n",
    "    try:\n",
    "        return act_min_wage.loc[year][state]\n",
    "    except:\n",
    "        return np.Nan\n",
    "    \n",
    "get_min_wage(2012,\"Colorado\")"
   ]
  },
  {
   "cell_type": "code",
   "execution_count": 1,
   "metadata": {},
   "outputs": [
    {
     "ename": "NameError",
     "evalue": "name 'get_min_wage' is not defined",
     "output_type": "error",
     "traceback": [
      "\u001b[1;31m---------------------------------------------------------------------------\u001b[0m",
      "\u001b[1;31mNameError\u001b[0m                                 Traceback (most recent call last)",
      "\u001b[1;32m<timed exec>\u001b[0m in \u001b[0;36m<module>\u001b[1;34m()\u001b[0m\n",
      "\u001b[1;31mNameError\u001b[0m: name 'get_min_wage' is not defined"
     ]
    }
   ],
   "source": [
    "%%time\n",
    "\n",
    "unemploy['min_wage'] = list(map(get_min_wage, unemploy[\"Year\"], unemploy[\"State\"]))\n",
    "unemploy.head()"
   ]
  },
  {
   "cell_type": "code",
   "execution_count": null,
   "metadata": {},
   "outputs": [],
   "source": [
    "#to see if two correlate\n",
    "unemploy[[\"Rate\", \"min_wage\"]].corr()"
   ]
  },
  {
   "cell_type": "code",
   "execution_count": null,
   "metadata": {},
   "outputs": [],
   "source": [
    "#to see if two vary together\n",
    "unemploy[[\"Rate\", \"min_wage\"]].cov()"
   ]
  },
  {
   "cell_type": "code",
   "execution_count": null,
   "metadata": {},
   "outputs": [],
   "source": []
  },
  {
   "cell_type": "code",
   "execution_count": null,
   "metadata": {},
   "outputs": [],
   "source": []
  },
  {
   "cell_type": "code",
   "execution_count": null,
   "metadata": {},
   "outputs": [],
   "source": []
  },
  {
   "cell_type": "code",
   "execution_count": null,
   "metadata": {},
   "outputs": [],
   "source": []
  },
  {
   "cell_type": "code",
   "execution_count": null,
   "metadata": {},
   "outputs": [],
   "source": []
  }
 ],
 "metadata": {
  "kernelspec": {
   "display_name": "Python 3",
   "language": "python",
   "name": "python3"
  },
  "language_info": {
   "codemirror_mode": {
    "name": "ipython",
    "version": 3
   },
   "file_extension": ".py",
   "mimetype": "text/x-python",
   "name": "python",
   "nbconvert_exporter": "python",
   "pygments_lexer": "ipython3",
   "version": "3.7.0"
  }
 },
 "nbformat": 4,
 "nbformat_minor": 2
}
